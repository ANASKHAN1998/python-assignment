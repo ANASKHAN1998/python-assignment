{
 "cells": [
  {
   "cell_type": "code",
   "execution_count": 7,
   "metadata": {},
   "outputs": [
    {
     "name": "stdout",
     "output_type": "stream",
     "text": [
      "\n",
      "Please type in the math operation you would like to complete:\n",
      "+  for addition\n",
      "-  for subtraction\n",
      "*  for multiplication\n",
      "/  for division\n",
      "** for power\n",
      "+\n",
      "Enter your first number: 3\n",
      "Enter your second number: 7\n",
      "3 + 7 =  10\n"
     ]
    }
   ],
   "source": [
    "operation = input('''\n",
    "Please type in the math operation you would like to complete:\n",
    "+  for addition\n",
    "-  for subtraction\n",
    "*  for multiplication\n",
    "/  for division\n",
    "** for power\n",
    "''')\n",
    "\n",
    "num_1 = int(input('Enter your first number: '))\n",
    "num_2 = int(input('Enter your second number: '))\n",
    "\n",
    "if operation == '+':\n",
    "    print('{} + {} = '.format(num_1, num_2),num_1 + num_2)\n",
    "    \n",
    "elif operation == '-':\n",
    "    print('{} - {} = '.format(num_1, num_2),num_1 - num_2)\n",
    "    \n",
    "elif operation == '*':\n",
    "    print('{} * {} = '.format(num_1, num_2),num_1 * num_2)\n",
    "    \n",
    "elif operation == '/':\n",
    "    print('{} / {} = '.format(num_1, num_2),num_1 / num_2)\n",
    "\n",
    "elif operation == '**':\n",
    "    print('{} ** {} = '.format(num_1, num_2), num_1 ** num_2)\n",
    "        \n",
    "else:\n",
    "    print('You have typed Invalid Syntax !')\n"
   ]
  },
  {
   "cell_type": "code",
   "execution_count": 5,
   "metadata": {},
   "outputs": [
    {
     "name": "stdout",
     "output_type": "stream",
     "text": [
      "List contain numeric value\n"
     ]
    }
   ],
   "source": [
    "list_1=['1','orange','2','3','3','apple', \"Ali\"]\n",
    "for i in list_1:\n",
    "    a = i.isnumeric()\n",
    "    if a == True:\n",
    "        print(\"List contain numeric value\")\n",
    "        break\n",
    "    else:\n",
    "        print(\"List not contain any numeric value\")\n",
    "        break"
   ]
  },
  {
   "cell_type": "code",
   "execution_count": 4,
   "metadata": {},
   "outputs": [
    {
     "name": "stdout",
     "output_type": "stream",
     "text": [
      "Current Dictionary is:  {'First Name': 'MOHAMMAD', 'Middle Name': 'ANAS'}\n",
      "Updated Dict is:  {'First Name': 'MOHAMMAD', 'Middle Name': 'ANAS', 'Last Name': ' KHAN'}\n"
     ]
    }
   ],
   "source": [
    "dict = {'First Name':'MOHAMMAD', 'Middle Name':'ANAS'} \n",
    "print(\"Current Dictionary is: \", dict) \n",
    "   \n",
    "dict['Last Name'] = ' KHAN'\n",
    "print(\"Updated Dict is: \", dict)"
   ]
  },
  {
   "cell_type": "code",
   "execution_count": null,
   "metadata": {},
   "outputs": [],
   "source": [
    "\n",
    "dict = {'a': 100, 'b':200, 'c':300}  \n",
    "sum = 0\n",
    "\n",
    "for i in dict.values(): \n",
    "    sum = sum + i\n",
    "\n",
    "print(\"The sum of numeric items in dictionary  {} is {}\".format(dict,sum))"
   ]
  },
  {
   "cell_type": "code",
   "execution_count": 2,
   "metadata": {},
   "outputs": [
    {
     "name": "stdout",
     "output_type": "stream",
     "text": [
      "There are duplicates in this list\n",
      "list of duplicates is :  [3, 9, 12]\n"
     ]
    }
   ],
   "source": [
    "list3 = [ 3, 6, 9, 12, 3, 30, 15, 9, 45, 36, 12, 12]\n",
    "unique = set(list3)  \n",
    "for n in unique:  \n",
    "    count = list3.count(n)  \n",
    "    if count > 1:  \n",
    "        print ('There are duplicates in this list')  \n",
    "        \n",
    "        duplicate = []\n",
    "        uniq = {}\n",
    "        for x in list3:\n",
    "            if x not in uniq:\n",
    "                uniq[x] = 1\n",
    "            else:\n",
    "                if uniq[x] == 1:\n",
    "                    duplicate.append(x)\n",
    "                uniq[x] += 1\n",
    "        print(\"list of duplicates is : \" ,duplicate)\n",
    "        break\n",
    "    else:\n",
    "        print ('There are no duplicates in this list')  \n",
    "        break"
   ]
  },
  {
   "cell_type": "code",
   "execution_count": 1,
   "metadata": {},
   "outputs": [
    {
     "name": "stdout",
     "output_type": "stream",
     "text": [
      "Enter a key of dictionary :ten\n",
      "Key is present in the dictionary\n"
     ]
    }
   ],
   "source": [
    "dict2 = {'ten': 10, 'twenty': 20, 'thirty': 30, 'forty': 40, 'fifty': 50, 'sixty': 60}\n",
    "x = input(\"Enter a key of dictionary :\")\n",
    "if x in dict2:\n",
    "    print('Key is present in the dictionary')\n",
    "else:\n",
    "    print('Key is not present in the dictionary')"
   ]
  },
  {
   "cell_type": "code",
   "execution_count": null,
   "metadata": {},
   "outputs": [],
   "source": []
  }
 ],
 "metadata": {
  "kernelspec": {
   "display_name": "Python 3",
   "language": "python",
   "name": "python3"
  },
  "language_info": {
   "codemirror_mode": {
    "name": "ipython",
    "version": 3
   },
   "file_extension": ".py",
   "mimetype": "text/x-python",
   "name": "python",
   "nbconvert_exporter": "python",
   "pygments_lexer": "ipython3",
   "version": "3.7.3"
  }
 },
 "nbformat": 4,
 "nbformat_minor": 2
}
