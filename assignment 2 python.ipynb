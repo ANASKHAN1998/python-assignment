{
 "cells": [
  {
   "cell_type": "code",
   "execution_count": 5,
   "metadata": {},
   "outputs": [
    {
     "name": "stdout",
     "output_type": "stream",
     "text": [
      "marks of sub1:75\n",
      "marks of sub2:44\n",
      "marks of sub3:88\n",
      "marks of sub4:99\n",
      "marks of sub5:77\n",
      "GRADE C\n"
     ]
    }
   ],
   "source": [
    "#MARKSHEET\n",
    "sub1=int(input(\"marks of sub1:\"))\n",
    "sub2=int(input(\"marks of sub2:\"))\n",
    "sub3=int(input(\"marks of sub3:\"))\n",
    "sub4=int(input(\"marks of sub4:\"))\n",
    "sub5=int(input(\"marks of sub5:\"))\n",
    "avg=(sub1+sub2+sub3+sub4+sub5)/5\n",
    "if(avg>=90): \n",
    "    print(\"GRDAE A\")\n",
    "elif(avg>=80 and avg<90):\n",
    "    print(\" GRADE B\")\n",
    "elif(avg>=70 and avg<80):\n",
    "    print(\"GRADE C\")\n",
    "elif(avg>=60 and avg<70):\n",
    "    print(\"GRADE D\")\n",
    "else:\n",
    "    print(\"GRADE E\")"
   ]
  },
  {
   "cell_type": "code",
   "execution_count": 10,
   "metadata": {},
   "outputs": [
    {
     "name": "stdout",
     "output_type": "stream",
     "text": [
      "enter a number :68\n",
      "number is even\n"
     ]
    }
   ],
   "source": [
    "#even or odd\n",
    "num=int(input(\"enter a number :\" ))\n",
    "mod = num % 2\n",
    "if mod > 0 :\n",
    "    print(\"number is odd\")\n",
    "else:\n",
    "    print(\"number is even\")\n"
   ]
  },
  {
   "cell_type": "code",
   "execution_count": 13,
   "metadata": {},
   "outputs": [
    {
     "name": "stdout",
     "output_type": "stream",
     "text": [
      "the lenght of a list is : 6\n"
     ]
    }
   ],
   "source": [
    "#lenght of a list\n",
    "n=len([1,2,3,4,5,5])\n",
    "print(\"the lenght of a list is :\" ,n)"
   ]
  },
  {
   "cell_type": "code",
   "execution_count": 14,
   "metadata": {},
   "outputs": [
    {
     "name": "stdout",
     "output_type": "stream",
     "text": [
      "the sum of list is 8864\n"
     ]
    }
   ],
   "source": [
    "#sum of numeric items in list\n",
    "n=sum([23,343,55,666,7777])\n",
    "print(\"the sum of list is\" , n)"
   ]
  },
  {
   "cell_type": "code",
   "execution_count": 15,
   "metadata": {},
   "outputs": [
    {
     "name": "stdout",
     "output_type": "stream",
     "text": [
      "the largest value in the list is : 77\n"
     ]
    }
   ],
   "source": [
    "#largest value in the list \n",
    "list=([1,22,33,44,55,66,77])\n",
    "print(\"the largest value in the list is :\" , max(list))"
   ]
  },
  {
   "cell_type": "code",
   "execution_count": 20,
   "metadata": {},
   "outputs": [
    {
     "name": "stdout",
     "output_type": "stream",
     "text": [
      "the list:[1, 1, 2, 3, 5, 8, 13, 21, 34, 55, 89]\n",
      "the numbers greator than 5:6\n"
     ]
    }
   ],
   "source": [
    "#numbers greator than 5 in a list\n",
    "a=([1,1,2,3,5,8,13,21,34,55,89])\n",
    "k=5\n",
    "print(\"the list:\" + str(a))\n",
    "count=len([i for i in a if i>k])\n",
    "print(\"the numbers greator than 5:\"+ str(count))"
   ]
  },
  {
   "cell_type": "code",
   "execution_count": null,
   "metadata": {},
   "outputs": [],
   "source": []
  }
 ],
 "metadata": {
  "kernelspec": {
   "display_name": "Python 3",
   "language": "python",
   "name": "python3"
  },
  "language_info": {
   "codemirror_mode": {
    "name": "ipython",
    "version": 3
   },
   "file_extension": ".py",
   "mimetype": "text/x-python",
   "name": "python",
   "nbconvert_exporter": "python",
   "pygments_lexer": "ipython3",
   "version": "3.7.3"
  }
 },
 "nbformat": 4,
 "nbformat_minor": 2
}
