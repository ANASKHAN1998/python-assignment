{
 "cells": [
  {
   "cell_type": "code",
   "execution_count": 16,
   "metadata": {},
   "outputs": [
    {
     "name": "stdout",
     "output_type": "stream",
     "text": [
      "Input a number to compute the factiorial : 5\n",
      "120\n"
     ]
    }
   ],
   "source": [
    "#Write a Python function to calculate the factorial of a number (a non-negativeinteger). The function accepts the number as an argument.\n",
    "def factorial(n):\n",
    "    if n == 0:\n",
    "        return 1\n",
    "    else:\n",
    "        return n * factorial(n-1)\n",
    "n=int(input(\"Input a number to compute the factiorial : \"))\n",
    "print(factorial(n))\n"
   ]
  },
  {
   "cell_type": "code",
   "execution_count": 28,
   "metadata": {},
   "outputs": [
    {
     "name": "stdout",
     "output_type": "stream",
     "text": [
      "original string : The quick Brown Fox\n",
      "No. of Upper case characters :  3\n",
      "No. of Lower case Characters :  13\n"
     ]
    }
   ],
   "source": [
    "#Write a Python function that accepts a string and calculate the number of upper case letters and lower case letters.\n",
    "def string_test(s):\n",
    "    d={\"UPPER_CASE\":0 , \"lower_case\":0}\n",
    "    for c in s:\n",
    "        if c.isupper():\n",
    "            d[\"UPPER_CASE\"]+=1\n",
    "        elif c.islower():\n",
    "                d[\"lower_case\"]+=1\n",
    "        else:\n",
    "            pass\n",
    "    print(\"original string :\",s)\n",
    "    print (\"No. of Upper case characters : \", d[\"UPPER_CASE\"])\n",
    "    print (\"No. of Lower case Characters : \", d[\"lower_case\"])\n",
    "\n",
    "string_test('The quick Brown Fox')\n",
    "                "
   ]
  },
  {
   "cell_type": "code",
   "execution_count": 29,
   "metadata": {},
   "outputs": [
    {
     "name": "stdout",
     "output_type": "stream",
     "text": [
      "22 4 66 "
     ]
    }
   ],
   "source": [
    "#Write a Python function to print the even numbers from a given\n",
    "list=[22,4,45,66,93,33]\n",
    "for num in list:\n",
    "    if num % 2 == 0:\n",
    "        print(num,end = \" \")"
   ]
  },
  {
   "cell_type": "code",
   "execution_count": 31,
   "metadata": {},
   "outputs": [
    {
     "name": "stdout",
     "output_type": "stream",
     "text": [
      "YES\n"
     ]
    }
   ],
   "source": [
    "#Write a Python function that checks whether a passed string is palindrome or not.\n",
    "x = \"civic\"\n",
    "w = \"\" \n",
    "for i in x: \n",
    "    w = i + w \n",
    "    if (x==w): \n",
    "        print(\"YES\") \n",
    "    "
   ]
  },
  {
   "cell_type": "code",
   "execution_count": 33,
   "metadata": {},
   "outputs": [
    {
     "name": "stdout",
     "output_type": "stream",
     "text": [
      "11 is prime\n",
      "11 is prime\n",
      "11 is prime\n"
     ]
    }
   ],
   "source": [
    "#Write a Python function that takes a number as a parameter and check thenumber is prime or not.\n",
    "num = 11\n",
    "if num>1:\n",
    "    for i in range(2,num//2):\n",
    "        if(num%i)==0:\n",
    "            print(num , \"isnt prime\")\n",
    "            break\n",
    "        else:\n",
    "            print(num , \"is prime\")\n",
    "else:\n",
    "            print(num , \"isnt prime\")"
   ]
  },
  {
   "cell_type": "code",
   "execution_count": null,
   "metadata": {},
   "outputs": [],
   "source": []
  },
  {
   "cell_type": "code",
   "execution_count": null,
   "metadata": {},
   "outputs": [],
   "source": []
  }
 ],
 "metadata": {
  "kernelspec": {
   "display_name": "Python 3",
   "language": "python",
   "name": "python3"
  },
  "language_info": {
   "codemirror_mode": {
    "name": "ipython",
    "version": 3
   },
   "file_extension": ".py",
   "mimetype": "text/x-python",
   "name": "python",
   "nbconvert_exporter": "python",
   "pygments_lexer": "ipython3",
   "version": "3.7.3"
  }
 },
 "nbformat": 4,
 "nbformat_minor": 2
}
