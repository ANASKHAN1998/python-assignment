{
 "cells": [
  {
   "cell_type": "code",
   "execution_count": 1,
   "metadata": {},
   "outputs": [
    {
     "name": "stdout",
     "output_type": "stream",
     "text": [
      "First name : Obaid \n",
      " Last name : Ur Rahman \n",
      " Age : 22 \n",
      " City : Karachi\n"
     ]
    }
   ],
   "source": [
    "person = {\n",
    "    'first_name': 'Obaid',\n",
    "    'last_name': 'Ur Rahman',\n",
    "    'age': 22,\n",
    "    'city': 'Karachi',\n",
    "    }\n",
    "\n",
    "print(\"First name :\",person['first_name'],\n",
    "   \"\\n Last name :\",person['last_name'],\n",
    "   \"\\n Age :\",person['age'],\n",
    "   \"\\n City :\",person['city'])\n"
   ]
  },
  {
   "cell_type": "code",
   "execution_count": 2,
   "metadata": {},
   "outputs": [
    {
     "name": "stdout",
     "output_type": "stream",
     "text": [
      "\n",
      "1. Madinah is the city of Saudi Arabia.\n",
      "  It has a population of about 1459000.\n",
      "  The fact about Madinah is that it is the second holiest city in Islam, after Mecca.\n",
      "\n",
      "2. Karachi is the city of Pakistan.\n",
      "  It has a population of about 15741406.\n",
      "  The fact about Karachi is that it is the Sixth largest city in the world by city population.\n",
      "\n",
      "3. Istanbul is the city of Turkey.\n",
      "  It has a population of about 14968000.\n",
      "  The fact about Istanbul is that it is the only city in the world which is both in Europe and Asia geographicaly.\n"
     ]
    }
   ],
   "source": [
    "\n",
    "cities = {\n",
    "    'madinah': {\n",
    "        'country': 'saudi arabia',\n",
    "        'population': 1459000,\n",
    "        'fact': 'it is the second holiest city in Islam, after Mecca.',\n",
    "        },\n",
    "    'karachi': {\n",
    "        'country': 'pakistan',\n",
    "        'population': 15741406,\n",
    "        'fact': 'it is the Sixth largest city in the world by city population.',\n",
    "        },\n",
    "    'istanbul': {\n",
    "        'country': 'turkey',\n",
    "        'population': 14968000,\n",
    "        'fact': 'it is the only city in the world which is both in Europe and Asia geographicaly.',\n",
    "        }\n",
    "    }\n",
    "n=0\n",
    "for city, city_info in cities.items():\n",
    "    country = city_info['country'].title()\n",
    "    population = city_info['population']\n",
    "    fact = city_info['fact']\n",
    "    n+=1\n",
    "\n",
    "    print(\"\\n\"+ str(n) + \". \" + city.title() + \" is the city of \" + country + \".\")\n",
    "    print(\"  It has a population of about \" + str(population) + \".\")\n",
    "    print(\"  The fact about \" + city.title() + \" is that \"+ fact )"
   ]
  },
  {
   "cell_type": "code",
   "execution_count": 3,
   "metadata": {},
   "outputs": [
    {
     "name": "stdout",
     "output_type": "stream",
     "text": [
      "How old are you ?\n",
      "Please enter your age\n",
      "Enter 'q' for Quit .\n",
      "55\n",
      "  Your ticket cost $15\n",
      "How old are you ?\n",
      "Please enter your age\n",
      "Enter 'q' for Quit .\n",
      "22\n",
      "  Your ticket cost $15\n",
      "How old are you ?\n",
      "Please enter your age\n",
      "Enter 'q' for Quit .\n",
      "9\n",
      "  Your ticket cost $10\n",
      "How old are you ?\n",
      "Please enter your age\n",
      "Enter 'q' for Quit .\n",
      "q\n"
     ]
    }
   ],
   "source": [
    "\n",
    "message = '''How old are you ?\n",
    "Please enter your age\n",
    "Enter 'q' for Quit .\\n'''\n",
    "\n",
    "while True:\n",
    "    age = input(message)\n",
    "    if age == 'q':\n",
    "        break\n",
    "    age = int(age)\n",
    "\n",
    "    if age < 3:\n",
    "        print(\"  You get in free !\")\n",
    "    elif age < 13:\n",
    "        print(\"  Your ticket cost $10\")\n",
    "    else:\n",
    "        print(\"  Your ticket cost $15\")"
   ]
  },
  {
   "cell_type": "code",
   "execution_count": 4,
   "metadata": {},
   "outputs": [
    {
     "name": "stdout",
     "output_type": "stream",
     "text": [
      "Holy Quran is my favorite book\n"
     ]
    }
   ],
   "source": [
    "\n",
    "def favorite_book(title):\n",
    "    print(title + \" is my favorite book\")\n",
    "#>>>>>>>>>>>>>>>>>>>>>>>>>>>>>>>>>>>>>>>>>>>>>>>\n",
    "\n",
    "favorite_book('Holy Quran')"
   ]
  },
  {
   "cell_type": "code",
   "execution_count": 5,
   "metadata": {},
   "outputs": [
    {
     "name": "stdout",
     "output_type": "stream",
     "text": [
      "Guess a number between 1 and 30\n",
      "23\n",
      "Try Higher\n",
      "Guess a number between 1 and 30\n",
      "3\n",
      "Try Higher\n",
      "Guess a number between 1 and 30\n",
      "33\n",
      "Try Lower\n",
      " \n",
      "You Loose !!!\n"
     ]
    }
   ],
   "source": [
    "import random\n",
    "num = random.randint(1, 30)\n",
    "for n in range(3):\n",
    "    print('Guess a number between 1 and 30')\n",
    "    guess = input()\n",
    "    i = int(guess)\n",
    "    if i == num:\n",
    "        print(' \\nYou won !!!')\n",
    "        break\n",
    "    elif i < num:\n",
    "        print('Try Higher')\n",
    "    elif i > num:\n",
    "        print('Try Lower')\n",
    "else:\n",
    "    print(\" \\nYou Loose !!!\")"
   ]
  },
  {
   "cell_type": "code",
   "execution_count": null,
   "metadata": {},
   "outputs": [],
   "source": []
  }
 ],
 "metadata": {
  "kernelspec": {
   "display_name": "Python 3",
   "language": "python",
   "name": "python3"
  },
  "language_info": {
   "codemirror_mode": {
    "name": "ipython",
    "version": 3
   },
   "file_extension": ".py",
   "mimetype": "text/x-python",
   "name": "python",
   "nbconvert_exporter": "python",
   "pygments_lexer": "ipython3",
   "version": "3.7.3"
  }
 },
 "nbformat": 4,
 "nbformat_minor": 2
}
